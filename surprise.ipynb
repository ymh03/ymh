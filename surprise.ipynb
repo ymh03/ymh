{
 "cells": [
  {
   "cell_type": "code",
   "execution_count": 1,
   "id": "64591e68-ecdf-4f72-acb3-502d3204c7af",
   "metadata": {
    "tags": []
   },
   "outputs": [
    {
     "name": "stdout",
     "output_type": "stream",
     "text": [
      "Traceback (most recent call last):\n",
      "  File \"/environment/miniconda3/bin/featurize\", line 8, in <module>\n",
      "    sys.exit(cli())\n",
      "  File \"/environment/miniconda3/lib/python3.10/site-packages/click/core.py\", line 829, in __call__\n",
      "    return self.main(*args, **kwargs)\n",
      "  File \"/environment/miniconda3/lib/python3.10/site-packages/click/core.py\", line 782, in main\n",
      "    rv = self.invoke(ctx)\n",
      "  File \"/environment/miniconda3/lib/python3.10/site-packages/click/core.py\", line 1259, in invoke\n",
      "    return _process_result(sub_ctx.command.invoke(sub_ctx))\n",
      "  File \"/environment/miniconda3/lib/python3.10/site-packages/click/core.py\", line 1259, in invoke\n",
      "    return _process_result(sub_ctx.command.invoke(sub_ctx))\n",
      "  File \"/environment/miniconda3/lib/python3.10/site-packages/click/core.py\", line 1066, in invoke\n",
      "    return ctx.invoke(self.callback, **ctx.params)\n",
      "  File \"/environment/miniconda3/lib/python3.10/site-packages/click/core.py\", line 610, in invoke\n",
      "    return callback(*args, **kwargs)\n",
      "  File \"/environment/miniconda3/lib/python3.10/site-packages/featurize/cli.py\", line 184, in download\n",
      "    client.dataset.download(dataset_id=str(id))\n",
      "  File \"/environment/miniconda3/lib/python3.10/site-packages/featurize/resource.py\", line 163, in download\n",
      "    dataset = self._http(f\"/datasets/{dataset_id}\")\n",
      "  File \"/environment/miniconda3/lib/python3.10/site-packages/featurize/resource.py\", line 69, in _http\n",
      "    raise HTTPCodeError(req.status_code, req.json())\n",
      "featurize.resource.HTTPCodeError: HTTP request failed with code: 404, body: {'status': 404, 'message': '未找到该记录', 'data': None}\n"
     ]
    }
   ],
   "source": [
    "!featurize dataset download 910888ea-f616-4cd9-bfd1-4acc754d6fae"
   ]
  },
  {
   "cell_type": "code",
   "execution_count": 2,
   "id": "a9ba9407-ba2e-4d89-be2c-778c90b702f2",
   "metadata": {
    "collapsed": true,
    "jupyter": {
     "outputs_hidden": true
    },
    "tags": []
   },
   "outputs": [
    {
     "name": "stdout",
     "output_type": "stream",
     "text": [
      "Looking in indexes: https://pypi.tuna.tsinghua.edu.cn/simple\n",
      "Requirement already satisfied: surprise in /environment/miniconda3/lib/python3.10/site-packages (0.1)\n",
      "Requirement already satisfied: scikit-surprise in /environment/miniconda3/lib/python3.10/site-packages (from surprise) (1.1.4)\n",
      "Requirement already satisfied: joblib>=1.2.0 in /environment/miniconda3/lib/python3.10/site-packages (from scikit-surprise->surprise) (1.3.2)\n",
      "Requirement already satisfied: numpy>=1.19.5 in /environment/miniconda3/lib/python3.10/site-packages (from scikit-surprise->surprise) (1.24.1)\n",
      "Requirement already satisfied: scipy>=1.6.0 in /environment/miniconda3/lib/python3.10/site-packages (from scikit-surprise->surprise) (1.11.3)\n"
     ]
    }
   ],
   "source": [
    "!pip install surprise"
   ]
  },
  {
   "cell_type": "code",
   "execution_count": 3,
   "id": "20060c09-e844-420e-bdd5-097295e91ff9",
   "metadata": {
    "collapsed": true,
    "jupyter": {
     "outputs_hidden": true
    },
    "tags": []
   },
   "outputs": [
    {
     "name": "stdout",
     "output_type": "stream",
     "text": [
      "Looking in indexes: https://pypi.tuna.tsinghua.edu.cn/simple\n",
      "Requirement already satisfied: openpyxl in /environment/miniconda3/lib/python3.10/site-packages (3.1.3)\n",
      "Requirement already satisfied: et-xmlfile in /environment/miniconda3/lib/python3.10/site-packages (from openpyxl) (1.1.0)\n"
     ]
    }
   ],
   "source": [
    "!pip install openpyxl"
   ]
  },
  {
   "cell_type": "code",
   "execution_count": 4,
   "id": "53d2a596-b000-4063-8625-60645354c97f",
   "metadata": {
    "jupyter": {
     "source_hidden": true
    },
    "tags": []
   },
   "outputs": [],
   "source": [
    "import pandas as pd\n",
    "from surprise import SVD, Dataset, Reader, accuracy\n",
    "from surprise.model_selection import train_test_split\n",
    "import numpy as np\n",
    "import os"
   ]
  },
  {
   "cell_type": "code",
   "execution_count": 17,
   "id": "c6c7d0db-a546-4a36-b520-6cc8f6c310ee",
   "metadata": {},
   "outputs": [],
   "source": [
    "# Load the data\n",
    "data_df = pd.read_excel('[final] April 2015 to Nov 30 2019 - Transformed Jester Data - .xlsx')\n",
    "data_df.columns = range(data_df.shape[1]) # Rename columns to match with jokes dataframe\n",
    "\n",
    "# Convert data_df from wide format to long format\n",
    "data_df = data_df.stack().reset_index()\n",
    "data_df.columns = ['user_id', 'joke_id', 'rating']\n",
    "\n",
    "# Filter out missing ratings\n",
    "data_df = data_df[data_df['rating'] != 99.0]\n",
    "\n",
    "# Load the jokes\n",
    "jokes_df = pd.read_excel('Dataset4JokeSet.xlsx')\n",
    "jokes_df.columns = ['joke']\n",
    "jokes_df.index.name = 'joke_id'\n",
    "\n",
    "# Create a Reader object\n",
    "reader = Reader(rating_scale=(-10, 10))\n",
    "\n",
    "# Load the data into a Dataset object\n",
    "data = Dataset.load_from_df(data_df[['user_id', 'joke_id', 'rating']], reader)"
   ]
  },
  {
   "cell_type": "code",
   "execution_count": 19,
   "id": "15d1451f-30a7-4261-9f6d-7eb17ddc34e6",
   "metadata": {},
   "outputs": [
    {
     "data": {
      "text/html": [
       "<div>\n",
       "<style scoped>\n",
       "    .dataframe tbody tr th:only-of-type {\n",
       "        vertical-align: middle;\n",
       "    }\n",
       "\n",
       "    .dataframe tbody tr th {\n",
       "        vertical-align: top;\n",
       "    }\n",
       "\n",
       "    .dataframe thead th {\n",
       "        text-align: right;\n",
       "    }\n",
       "</style>\n",
       "<table border=\"1\" class=\"dataframe\">\n",
       "  <thead>\n",
       "    <tr style=\"text-align: right;\">\n",
       "      <th></th>\n",
       "      <th>user_id</th>\n",
       "      <th>joke_id</th>\n",
       "      <th>rating</th>\n",
       "    </tr>\n",
       "  </thead>\n",
       "  <tbody>\n",
       "    <tr>\n",
       "      <th>0</th>\n",
       "      <td>0</td>\n",
       "      <td>0</td>\n",
       "      <td>1.00</td>\n",
       "    </tr>\n",
       "    <tr>\n",
       "      <th>72</th>\n",
       "      <td>0</td>\n",
       "      <td>72</td>\n",
       "      <td>8.21</td>\n",
       "    </tr>\n",
       "    <tr>\n",
       "      <th>159</th>\n",
       "      <td>1</td>\n",
       "      <td>0</td>\n",
       "      <td>4.00</td>\n",
       "    </tr>\n",
       "    <tr>\n",
       "      <th>178</th>\n",
       "      <td>1</td>\n",
       "      <td>19</td>\n",
       "      <td>-5.98</td>\n",
       "    </tr>\n",
       "    <tr>\n",
       "      <th>194</th>\n",
       "      <td>1</td>\n",
       "      <td>35</td>\n",
       "      <td>-4.47</td>\n",
       "    </tr>\n",
       "    <tr>\n",
       "      <th>...</th>\n",
       "      <td>...</td>\n",
       "      <td>...</td>\n",
       "      <td>...</td>\n",
       "    </tr>\n",
       "    <tr>\n",
       "      <th>1223821</th>\n",
       "      <td>7696</td>\n",
       "      <td>157</td>\n",
       "      <td>0.00</td>\n",
       "    </tr>\n",
       "    <tr>\n",
       "      <th>1223822</th>\n",
       "      <td>7696</td>\n",
       "      <td>158</td>\n",
       "      <td>0.00</td>\n",
       "    </tr>\n",
       "    <tr>\n",
       "      <th>1223823</th>\n",
       "      <td>7697</td>\n",
       "      <td>0</td>\n",
       "      <td>2.00</td>\n",
       "    </tr>\n",
       "    <tr>\n",
       "      <th>1223842</th>\n",
       "      <td>7697</td>\n",
       "      <td>19</td>\n",
       "      <td>4.59</td>\n",
       "    </tr>\n",
       "    <tr>\n",
       "      <th>1223895</th>\n",
       "      <td>7697</td>\n",
       "      <td>72</td>\n",
       "      <td>3.86</td>\n",
       "    </tr>\n",
       "  </tbody>\n",
       "</table>\n",
       "<p>114179 rows × 3 columns</p>\n",
       "</div>"
      ],
      "text/plain": [
       "         user_id  joke_id  rating\n",
       "0              0        0    1.00\n",
       "72             0       72    8.21\n",
       "159            1        0    4.00\n",
       "178            1       19   -5.98\n",
       "194            1       35   -4.47\n",
       "...          ...      ...     ...\n",
       "1223821     7696      157    0.00\n",
       "1223822     7696      158    0.00\n",
       "1223823     7697        0    2.00\n",
       "1223842     7697       19    4.59\n",
       "1223895     7697       72    3.86\n",
       "\n",
       "[114179 rows x 3 columns]"
      ]
     },
     "execution_count": 19,
     "metadata": {},
     "output_type": "execute_result"
    }
   ],
   "source": [
    "data_df"
   ]
  },
  {
   "cell_type": "code",
   "execution_count": 20,
   "id": "bafa1a4d-31eb-43bb-b14e-319ee430e57e",
   "metadata": {},
   "outputs": [],
   "source": [
    "data_df = data_df[data_df['rating'] != 0]"
   ]
  },
  {
   "cell_type": "code",
   "execution_count": 49,
   "id": "f3893173-5e8a-48a5-8736-59449204bd6d",
   "metadata": {},
   "outputs": [],
   "source": [
    "# Load the jokes\n",
    "jokes_df = pd.read_excel('/home/featurize/Dataset4JokeSet.xlsx',header=None, names=['joke'])"
   ]
  },
  {
   "cell_type": "code",
   "execution_count": 92,
   "id": "ad21f3df-e8b0-453f-9a5c-2a8433b37f12",
   "metadata": {},
   "outputs": [],
   "source": [
    "# 首先，给这个未命名的列一个名字 'joke_text'\n",
    "jokes_df.columns = ['joke']\n",
    "\n",
    "# 然后创建一个新的 'joke_id' 列，您可以根据需要填充它\n",
    "# 例如，我们这里简单地使用从1开始的整数作为joke_id\n",
    "jokes_df['joke_id'] = range(1, len(jokes_df) + 1)\n",
    "\n",
    "# 现在，我们可以将 'joke_id' 设置为索引\n",
    "jokes_df.set_index('joke_id', inplace=True)"
   ]
  },
  {
   "cell_type": "code",
   "execution_count": 94,
   "id": "0da5e8d1-d2ed-431b-bfb4-0575fef2f070",
   "metadata": {},
   "outputs": [
    {
     "data": {
      "text/html": [
       "<div>\n",
       "<style scoped>\n",
       "    .dataframe tbody tr th:only-of-type {\n",
       "        vertical-align: middle;\n",
       "    }\n",
       "\n",
       "    .dataframe tbody tr th {\n",
       "        vertical-align: top;\n",
       "    }\n",
       "\n",
       "    .dataframe thead th {\n",
       "        text-align: right;\n",
       "    }\n",
       "</style>\n",
       "<table border=\"1\" class=\"dataframe\">\n",
       "  <thead>\n",
       "    <tr style=\"text-align: right;\">\n",
       "      <th></th>\n",
       "      <th>joke</th>\n",
       "    </tr>\n",
       "    <tr>\n",
       "      <th>joke_id</th>\n",
       "      <th></th>\n",
       "    </tr>\n",
       "  </thead>\n",
       "  <tbody>\n",
       "    <tr>\n",
       "      <th>1</th>\n",
       "      <td>A man visits the doctor. The doctor says \"I ha...</td>\n",
       "    </tr>\n",
       "    <tr>\n",
       "      <th>2</th>\n",
       "      <td>This couple had an excellent relationship goin...</td>\n",
       "    </tr>\n",
       "    <tr>\n",
       "      <th>3</th>\n",
       "      <td>Q. What's 200 feet long and has 4 teeth?   A. ...</td>\n",
       "    </tr>\n",
       "    <tr>\n",
       "      <th>4</th>\n",
       "      <td>Q. What's the difference between a man and a t...</td>\n",
       "    </tr>\n",
       "    <tr>\n",
       "      <th>5</th>\n",
       "      <td>Q.\\tWhat's O. J. Simpson's Internet address?  ...</td>\n",
       "    </tr>\n",
       "    <tr>\n",
       "      <th>...</th>\n",
       "      <td>...</td>\n",
       "    </tr>\n",
       "    <tr>\n",
       "      <th>154</th>\n",
       "      <td>Poodle: \"My life is a mess. My owner is mean, ...</td>\n",
       "    </tr>\n",
       "    <tr>\n",
       "      <th>155</th>\n",
       "      <td>Did you hear that NASA has launched several co...</td>\n",
       "    </tr>\n",
       "    <tr>\n",
       "      <th>156</th>\n",
       "      <td>A bear walks into a bar and says,\"I'd like a b...</td>\n",
       "    </tr>\n",
       "    <tr>\n",
       "      <th>157</th>\n",
       "      <td>A dog goes into a bar and orders a martini. Th...</td>\n",
       "    </tr>\n",
       "    <tr>\n",
       "      <th>158</th>\n",
       "      <td>I'm reading a great book about antigravity -- ...</td>\n",
       "    </tr>\n",
       "  </tbody>\n",
       "</table>\n",
       "<p>158 rows × 1 columns</p>\n",
       "</div>"
      ],
      "text/plain": [
       "                                                      joke\n",
       "joke_id                                                   \n",
       "1        A man visits the doctor. The doctor says \"I ha...\n",
       "2        This couple had an excellent relationship goin...\n",
       "3        Q. What's 200 feet long and has 4 teeth?   A. ...\n",
       "4        Q. What's the difference between a man and a t...\n",
       "5        Q.\\tWhat's O. J. Simpson's Internet address?  ...\n",
       "...                                                    ...\n",
       "154      Poodle: \"My life is a mess. My owner is mean, ...\n",
       "155      Did you hear that NASA has launched several co...\n",
       "156      A bear walks into a bar and says,\"I'd like a b...\n",
       "157      A dog goes into a bar and orders a martini. Th...\n",
       "158      I'm reading a great book about antigravity -- ...\n",
       "\n",
       "[158 rows x 1 columns]"
      ]
     },
     "execution_count": 94,
     "metadata": {},
     "output_type": "execute_result"
    }
   ],
   "source": [
    "jokes_df"
   ]
  },
  {
   "cell_type": "code",
   "execution_count": 93,
   "id": "1a4d8600-c33f-48fa-be20-3ae905d1b3c0",
   "metadata": {},
   "outputs": [
    {
     "data": {
      "text/html": [
       "<div>\n",
       "<style scoped>\n",
       "    .dataframe tbody tr th:only-of-type {\n",
       "        vertical-align: middle;\n",
       "    }\n",
       "\n",
       "    .dataframe tbody tr th {\n",
       "        vertical-align: top;\n",
       "    }\n",
       "\n",
       "    .dataframe thead th {\n",
       "        text-align: right;\n",
       "    }\n",
       "</style>\n",
       "<table border=\"1\" class=\"dataframe\">\n",
       "  <thead>\n",
       "    <tr style=\"text-align: right;\">\n",
       "      <th></th>\n",
       "      <th>joke</th>\n",
       "    </tr>\n",
       "    <tr>\n",
       "      <th>joke_id</th>\n",
       "      <th></th>\n",
       "    </tr>\n",
       "  </thead>\n",
       "  <tbody>\n",
       "    <tr>\n",
       "      <th>1</th>\n",
       "      <td>A man visits the doctor. The doctor says \"I ha...</td>\n",
       "    </tr>\n",
       "    <tr>\n",
       "      <th>2</th>\n",
       "      <td>This couple had an excellent relationship goin...</td>\n",
       "    </tr>\n",
       "    <tr>\n",
       "      <th>3</th>\n",
       "      <td>Q. What's 200 feet long and has 4 teeth?   A. ...</td>\n",
       "    </tr>\n",
       "    <tr>\n",
       "      <th>4</th>\n",
       "      <td>Q. What's the difference between a man and a t...</td>\n",
       "    </tr>\n",
       "    <tr>\n",
       "      <th>5</th>\n",
       "      <td>Q.\\tWhat's O. J. Simpson's Internet address?  ...</td>\n",
       "    </tr>\n",
       "  </tbody>\n",
       "</table>\n",
       "</div>"
      ],
      "text/plain": [
       "                                                      joke\n",
       "joke_id                                                   \n",
       "1        A man visits the doctor. The doctor says \"I ha...\n",
       "2        This couple had an excellent relationship goin...\n",
       "3        Q. What's 200 feet long and has 4 teeth?   A. ...\n",
       "4        Q. What's the difference between a man and a t...\n",
       "5        Q.\\tWhat's O. J. Simpson's Internet address?  ..."
      ]
     },
     "execution_count": 93,
     "metadata": {},
     "output_type": "execute_result"
    }
   ],
   "source": [
    "#完成实验步骤中对数据集操作后执行\n",
    "jokes_df.head()"
   ]
  },
  {
   "cell_type": "code",
   "execution_count": 57,
   "id": "65953b7d-6145-476e-bd21-a3bde497418b",
   "metadata": {},
   "outputs": [],
   "source": [
    "# Create a Reader object\n",
    "reader = Reader(rating_scale=(1, 10))"
   ]
  },
  {
   "cell_type": "code",
   "execution_count": 59,
   "id": "40349e71-81eb-4220-8b63-35e086743cd5",
   "metadata": {},
   "outputs": [],
   "source": [
    "# 使用 reader 方法 load_from_df 来加载 DataFrame\n",
    "data = Dataset.load_from_df(data_df[['user_id', 'joke_id', 'rating']], reader)"
   ]
  },
  {
   "cell_type": "code",
   "execution_count": 60,
   "id": "b151b23e-45e1-4cc6-964e-04ad3f4b8603",
   "metadata": {},
   "outputs": [],
   "source": [
    "# 使用 train_test_split 函数划分数据集\n",
    "trainset, testset = train_test_split(data, test_size=0.2, random_state=42)"
   ]
  },
  {
   "cell_type": "code",
   "execution_count": 61,
   "id": "db0586b0-029c-4cbc-98fa-1c2e5a24fc5c",
   "metadata": {},
   "outputs": [
    {
     "data": {
      "text/plain": [
       "<surprise.prediction_algorithms.matrix_factorization.SVD at 0x7ff9760c7f40>"
      ]
     },
     "execution_count": 61,
     "metadata": {},
     "output_type": "execute_result"
    }
   ],
   "source": [
    "# Train a SVD model\n",
    "# 创建并训练 SVD 模型\n",
    "algo = SVD()\n",
    "algo.fit(trainset)"
   ]
  },
  {
   "cell_type": "code",
   "execution_count": 62,
   "id": "2d036076-464f-461b-afca-8bbf6cd2683d",
   "metadata": {},
   "outputs": [],
   "source": [
    "# Test the trained model against the testset\n",
    "# 在测试集上进行预测\n",
    "predictions = algo.test(testset)"
   ]
  },
  {
   "cell_type": "code",
   "execution_count": 64,
   "id": "e9744a92-66c2-4e20-8cdd-df561f61de67",
   "metadata": {},
   "outputs": [
    {
     "name": "stdout",
     "output_type": "stream",
     "text": [
      "RMSE: 8.6310\n",
      "RMSE: 8.63101488964829\n",
      "MAE:  5.0595\n",
      "MAE: 5.059464092406833\n"
     ]
    }
   ],
   "source": [
    "# 计算并打印 RMSE\n",
    "rmse = accuracy.rmse(predictions)\n",
    "print(f\"RMSE: {rmse}\")\n",
    "\n",
    "# 计算并打印 MAE\n",
    "mae = accuracy.mae(predictions)\n",
    "print(f\"MAE: {mae}\")"
   ]
  },
  {
   "cell_type": "code",
   "execution_count": 67,
   "id": "b9273fab-67a1-41e8-a9b4-e1bb35232d51",
   "metadata": {},
   "outputs": [],
   "source": [
    "# Get the id of jokes\n",
    "all_jokes_ids = data_df['joke_id'].unique()"
   ]
  },
  {
   "cell_type": "code",
   "execution_count": 68,
   "id": "1bde2414-48e1-427d-8a24-2255c81356d2",
   "metadata": {},
   "outputs": [],
   "source": [
    "# Choose an unused user_id for the new user\n",
    "new_user_id = data_df['user_id'].max() + 1"
   ]
  },
  {
   "cell_type": "code",
   "execution_count": 69,
   "id": "f03ccc66-16e2-4605-893c-7c2f6e91113b",
   "metadata": {},
   "outputs": [],
   "source": [
    "# Add new user's ratings to the data\n",
    "new_user_ratings = {\n",
    "    \"107\": 10,\n",
    "    \"149\": 9,\n",
    "    \"34\": 2\n",
    "}"
   ]
  },
  {
   "cell_type": "code",
   "execution_count": 70,
   "id": "d222c925-78cc-4c80-a68f-670c67ed5590",
   "metadata": {},
   "outputs": [],
   "source": [
    "# Create a Reader object\n",
    "reader = Reader(rating_scale=(1, 10))"
   ]
  },
  {
   "cell_type": "code",
   "execution_count": 71,
   "id": "4da9dbe3-0a88-4d87-8abd-dcb2772143d2",
   "metadata": {},
   "outputs": [],
   "source": [
    "# 创建包含新用户评分的 DataFrame\n",
    "new_user_data_df = pd.DataFrame({\n",
    "    'user_id': [new_user_id] * len(new_user_ratings),\n",
    "    'joke_id': list(new_user_ratings.keys()),\n",
    "    'rating': list(new_user_ratings.values())\n",
    "})"
   ]
  },
  {
   "cell_type": "code",
   "execution_count": 72,
   "id": "97e52800-0669-4ebd-9f9b-d4cd9f181aff",
   "metadata": {},
   "outputs": [],
   "source": [
    "# 将新用户的评分添加到原始数据中\n",
    "data_df = pd.concat([data_df, new_user_data_df], ignore_index=True)"
   ]
  },
  {
   "cell_type": "code",
   "execution_count": 73,
   "id": "d5b390e4-9803-4e27-9721-dfd8573a9f6a",
   "metadata": {},
   "outputs": [],
   "source": [
    "# Load the data into a Dataset object\n",
    "# 加载数据到 Dataset 对象\n",
    "data = Dataset.load_from_df(data_df[['user_id', 'joke_id', 'rating']], reader)"
   ]
  },
  {
   "cell_type": "code",
   "execution_count": 74,
   "id": "1dc3e364-b502-4b75-b816-edc693abdac9",
   "metadata": {},
   "outputs": [],
   "source": [
    "# Build a full trainset from data\n",
    "# 划分训练集和测试集\n",
    "trainset, testset = train_test_split(data, test_size=0.2, random_state=42)"
   ]
  },
  {
   "cell_type": "code",
   "execution_count": 75,
   "id": "9f7ffde2-eed7-4680-8651-c4d88f69ec9c",
   "metadata": {},
   "outputs": [
    {
     "data": {
      "text/plain": [
       "<surprise.prediction_algorithms.matrix_factorization.SVD at 0x7ff9760c4880>"
      ]
     },
     "execution_count": 75,
     "metadata": {},
     "output_type": "execute_result"
    }
   ],
   "source": [
    "# Train a SVD model\n",
    "# Train a SVD model\n",
    "# 创建并训练 SVD 模型\n",
    "algo = SVD()\n",
    "algo.fit(trainset)"
   ]
  },
  {
   "cell_type": "code",
   "execution_count": null,
   "id": "a8ada280-cd31-4ee7-9806-72feea5fce87",
   "metadata": {},
   "outputs": [],
   "source": [
    "# Generate recommendations for the new user\n"
   ]
  },
  {
   "cell_type": "code",
   "execution_count": 76,
   "id": "3af5a76c-80cf-4c19-bd1f-eb27269a9180",
   "metadata": {},
   "outputs": [],
   "source": [
    "# Predict the ratings for all unrated jokes\n",
    "# 预测新用户对所有未评分笑话的评分\n",
    "unrated_jokes = [joke_id for joke_id in all_jokes_ids if joke_id not in new_user_ratings]\n",
    "predictions = [algo.predict(new_user_id, joke_id) for joke_id in unrated_jokes]"
   ]
  },
  {
   "cell_type": "code",
   "execution_count": 77,
   "id": "16c43327-6cbe-4067-a192-6386f7d0c9ed",
   "metadata": {},
   "outputs": [],
   "source": [
    "# Get the top 10 jokes with highest predicted ratings\n",
    "# 创建一个按预测评分降序排序的列表\n",
    "predictions.sort(key=lambda x: x.est, reverse=True)\n",
    "\n",
    "# 获取预测评分最高的前10个笑话\n",
    "top_10_jokes = predictions[:10]"
   ]
  },
  {
   "cell_type": "markdown",
   "id": "f726dbe3",
   "metadata": {},
   "source": [
    "上方俩处代码存在问题"
   ]
  },
  {
   "cell_type": "code",
   "execution_count": 87,
   "id": "77c88ac1-8443-42e1-a397-5461e1a0dff7",
   "metadata": {},
   "outputs": [
    {
     "name": "stdout",
     "output_type": "stream",
     "text": [
      "Top 10 joke recommendations for the new user:\n",
      "[0, 129, 109, 134, 111, 89, 112, 32, 114, 137]\n"
     ]
    }
   ],
   "source": [
    "# 修复打印语句中的错误并执行打印\n",
    "print(\"Top 10 joke recommendations for the new user:\")\n",
    "print([joke.iid for joke in top_10_jokes])"
   ]
  },
  {
   "cell_type": "code",
   "execution_count": 91,
   "id": "6386c491-d29d-44c3-86ad-051dd5b0595f",
   "metadata": {},
   "outputs": [
    {
     "name": "stdout",
     "output_type": "stream",
     "text": [
      "Top 10 joke recommendations for the new user:\n",
      "[Prediction(uid=7698, iid=0, r_ui=None, est=10, details={'was_impossible': False}), Prediction(uid=7698, iid=129, r_ui=None, est=4.409912682545975, details={'was_impossible': False}), Prediction(uid=7698, iid=109, r_ui=None, est=4.117712012028947, details={'was_impossible': False}), Prediction(uid=7698, iid=134, r_ui=None, est=4.019507389844497, details={'was_impossible': False}), Prediction(uid=7698, iid=111, r_ui=None, est=3.9998509466080194, details={'was_impossible': False}), Prediction(uid=7698, iid=89, r_ui=None, est=3.8418461882161985, details={'was_impossible': False}), Prediction(uid=7698, iid=112, r_ui=None, est=3.780439942263283, details={'was_impossible': False}), Prediction(uid=7698, iid=32, r_ui=None, est=3.6564134400491692, details={'was_impossible': False}), Prediction(uid=7698, iid=114, r_ui=None, est=3.6302614669786406, details={'was_impossible': False}), Prediction(uid=7698, iid=137, r_ui=None, est=3.5826631630979966, details={'was_impossible': False})]\n"
     ]
    }
   ],
   "source": [
    "# 修复打印语句中的错误并执行打印\n",
    "print(\"Top 10 joke recommendations for the new user:\")\n",
    "print(top_10_jokes)"
   ]
  },
  {
   "cell_type": "code",
   "execution_count": null,
   "id": "18a82e96-7074-4bd7-9d58-a3efaf48c588",
   "metadata": {},
   "outputs": [],
   "source": [
    "结果呈现有问题，代码存在问题\n",
    "+7 基础分"
   ]
  }
 ],
 "metadata": {
  "kernelspec": {
   "display_name": "Python 3 (ipykernel)",
   "language": "python",
   "name": "python3"
  },
  "language_info": {
   "codemirror_mode": {
    "name": "ipython",
    "version": 3
   },
   "file_extension": ".py",
   "mimetype": "text/x-python",
   "name": "python",
   "nbconvert_exporter": "python",
   "pygments_lexer": "ipython3",
   "version": "3.10.12"
  }
 },
 "nbformat": 4,
 "nbformat_minor": 5
}
